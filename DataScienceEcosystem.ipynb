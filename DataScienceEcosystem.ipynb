{
  "nbformat": 4,
  "nbformat_minor": 0,
  "metadata": {
    "colab": {
      "provenance": [],
      "authorship_tag": "ABX9TyMXZtsAL4OTWFHmwdJNjqO8"
    },
    "kernelspec": {
      "name": "python3",
      "display_name": "Python 3"
    },
    "language_info": {
      "name": "python"
    }
  },
  "cells": [
    {
      "cell_type": "code",
      "execution_count": null,
      "metadata": {
        "id": "tjYURpdB5neA"
      },
      "outputs": [],
      "source": []
    },
    {
      "cell_type": "markdown",
      "source": [],
      "metadata": {
        "id": "TU3Gdmf-SHYV"
      }
    },
    {
      "cell_type": "markdown",
      "source": [
        "<h2> Author: </h2>\n",
        "Nadir"
      ],
      "metadata": {
        "id": "OTi_LIGA52Xh"
      }
    },
    {
      "cell_type": "markdown",
      "source": [
        "<h1>Data Science Tools and Ecosystem</h1>"
      ],
      "metadata": {
        "id": "7pDUwdRe559F"
      }
    },
    {
      "cell_type": "markdown",
      "source": [
        "In this notebook, Data Science Tools and Ecosystem are summarized."
      ],
      "metadata": {
        "id": "dHz6_pib61i3"
      }
    },
    {
      "cell_type": "code",
      "source": [],
      "metadata": {
        "id": "MmnfCptl6LDw"
      },
      "execution_count": null,
      "outputs": []
    },
    {
      "cell_type": "markdown",
      "source": [
        "**Objectives**:\n",
        "\n",
        "\n",
        "*   List popular languages for Data science\n",
        "*   Create Code cell to multiply and add number\n",
        "*   Make a table of Data Science Tools\n",
        "\n"
      ],
      "metadata": {
        "id": "1C2BL1DVCMoB"
      }
    },
    {
      "cell_type": "markdown",
      "source": [
        "Some of the popular languages that Data Scientists use are :\n",
        "1. Python\n",
        "2. R\n",
        "3. SQL"
      ],
      "metadata": {
        "id": "CP1Zu0qa7J7E"
      }
    },
    {
      "cell_type": "code",
      "source": [],
      "metadata": {
        "id": "RjxB4niy7SmS"
      },
      "execution_count": null,
      "outputs": []
    },
    {
      "cell_type": "markdown",
      "source": [
        "Some of the commonly used libraries used by Data Scientists include:\n",
        "1. NumPy\n",
        "2. Pandas\n",
        "3. Matplotlib"
      ],
      "metadata": {
        "id": "OP09GvNv7hiy"
      }
    },
    {
      "cell_type": "code",
      "source": [],
      "metadata": {
        "id": "QodpMEJC71x4"
      },
      "execution_count": null,
      "outputs": []
    },
    {
      "cell_type": "markdown",
      "source": [
        "| Data Science Tools |\n",
        "|--------------------|\n",
        "| Jupyter notebooks  |\n",
        "| R Studio           |\n",
        "| VS Code            |"
      ],
      "metadata": {
        "id": "1a6hN7vI8FCZ"
      }
    },
    {
      "cell_type": "markdown",
      "source": [
        "<h3> Below are a few examples of evaluating arithmetic expressions in Python</h3>\n",
        "\n"
      ],
      "metadata": {
        "id": "W2xq-jwK9C3-"
      }
    },
    {
      "cell_type": "code",
      "source": [
        "# This is a simple arithmetic expression to multiply then add integers\n",
        "(3*4)+5"
      ],
      "metadata": {
        "colab": {
          "base_uri": "https://localhost:8080/"
        },
        "id": "KsT8u8zN_-NM",
        "outputId": "2df30cd9-1de9-4dc5-9a26-da3063bd4fd8"
      },
      "execution_count": null,
      "outputs": [
        {
          "output_type": "execute_result",
          "data": {
            "text/plain": [
              "17"
            ]
          },
          "metadata": {},
          "execution_count": 1
        }
      ]
    },
    {
      "cell_type": "code",
      "source": [
        "# This will convert 200 minutes to hours by dividing by 60\n",
        "num_hours = 200/60\n",
        "print(num_hours)"
      ],
      "metadata": {
        "colab": {
          "base_uri": "https://localhost:8080/"
        },
        "id": "r65rJsa083bp",
        "outputId": "bb8599b6-4ca4-48a9-93aa-89151301028e"
      },
      "execution_count": null,
      "outputs": [
        {
          "output_type": "stream",
          "name": "stdout",
          "text": [
            "3.3333333333333335\n"
          ]
        }
      ]
    },
    {
      "cell_type": "markdown",
      "source": [],
      "metadata": {
        "id": "wLsOtqOTAq0d"
      }
    },
    {
      "cell_type": "code",
      "source": [],
      "metadata": {
        "id": "q_Auv6xs9R55"
      },
      "execution_count": null,
      "outputs": []
    }
  ]
}